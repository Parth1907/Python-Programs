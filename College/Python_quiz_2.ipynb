{
  "nbformat": 4,
  "nbformat_minor": 0,
  "metadata": {
    "colab": {
      "name": "Python quiz 2.ipynb",
      "provenance": [],
      "collapsed_sections": [
        "5i3Rt-L_bcJz"
      ],
      "authorship_tag": "ABX9TyP4Cp8SlMRcu8JJkkCyR9T+",
      "include_colab_link": true
    },
    "kernelspec": {
      "name": "python3",
      "display_name": "Python 3"
    },
    "language_info": {
      "name": "python"
    }
  },
  "cells": [
    {
      "cell_type": "markdown",
      "metadata": {
        "id": "view-in-github",
        "colab_type": "text"
      },
      "source": [
        "<a href=\"https://colab.research.google.com/github/Parth1907/Python-Programs/blob/main/Python_quiz_2.ipynb\" target=\"_parent\"><img src=\"https://colab.research.google.com/assets/colab-badge.svg\" alt=\"Open In Colab\"/></a>"
      ]
    },
    {
      "cell_type": "markdown",
      "source": [
        ""
      ],
      "metadata": {
        "id": "shrHgtXhgRFj"
      }
    },
    {
      "cell_type": "markdown",
      "source": [
        "# Q1\n",
        "A library charges fine for book returned late. Follownig are the fines:-\n",
        "- First 5 days 40 paisa per day\n",
        "- 6-10 days 65 paisa per day \n",
        "- above 10 days 80 paisa per day\n",
        "\n",
        "Design a program to calculate late fine assuming that book is returned N days late. "
      ],
      "metadata": {
        "id": "5i3Rt-L_bcJz"
      }
    },
    {
      "cell_type": "code",
      "source": [
        "N=int(input())\n",
        "fine=0\n",
        "if N<=5:\n",
        "    fine=0.40*N\n",
        "elif N>=6 and N<=10:\n",
        "    fine=.40*5+0.65*(N-5)\n",
        "else:\n",
        "    fine=.40*5+.65*5+0.80*(N-10)\n",
        "\n",
        "print(fine)\n"
      ],
      "metadata": {
        "id": "ZJseMjlIdEBa"
      },
      "execution_count": null,
      "outputs": []
    },
    {
      "cell_type": "markdown",
      "source": [
        "#Q2\n",
        "WAP to input no. and check whether it is a python no."
      ],
      "metadata": {
        "id": "zn5XRHQRcaAC"
      }
    },
    {
      "cell_type": "code",
      "source": [
        "n=int(input())\n",
        "a=n**2\n",
        "b=a%10**len(str(n))\n",
        "if n==b:\n",
        "  print('The given no. is a python no.')\n"
      ],
      "metadata": {
        "colab": {
          "base_uri": "https://localhost:8080/"
        },
        "id": "HC638EzvoPkJ",
        "outputId": "d53ead38-4412-4676-8576-8fb6e429da39"
      },
      "execution_count": null,
      "outputs": [
        {
          "output_type": "stream",
          "name": "stdout",
          "text": [
            "25\n",
            "The given no. is a python no.\n"
          ]
        }
      ]
    },
    {
      "cell_type": "markdown",
      "source": [
        "#Q3\n",
        "WAP to print all even no.s in a given range by user"
      ],
      "metadata": {
        "id": "AMym3a3achmy"
      }
    },
    {
      "cell_type": "code",
      "source": [
        "a=int(input('Enter your start point '))\n",
        "b=int(input('Enter your end point '))\n",
        "c=int(input('Enter your step point '))\n",
        "for i in range(a,b+1,c):\n",
        "  if i%2==0:\n",
        "    print(i)"
      ],
      "metadata": {
        "id": "S-fJ8PeUdPCC"
      },
      "execution_count": null,
      "outputs": []
    },
    {
      "cell_type": "markdown",
      "source": [
        "#Q4\n",
        "WAP to create a list of N integers and find out whether a value x is present or not. And if present then also print the index at which it is present."
      ],
      "metadata": {
        "id": "mE0vs54scaci"
      }
    },
    {
      "cell_type": "code",
      "source": [
        "l=list(map(int,input().split()))\n",
        "x=int(input())\n",
        "if x in l:\n",
        "  a=l.index(x)\n",
        "  print(f'It is present at index position {a}')\n",
        "else:\n",
        "  print('It is not present')"
      ],
      "metadata": {
        "id": "7fb2nL6XdP1b",
        "colab": {
          "base_uri": "https://localhost:8080/"
        },
        "outputId": "3f684821-a4b4-4eb0-be61-59bc0d103175"
      },
      "execution_count": null,
      "outputs": [
        {
          "output_type": "stream",
          "name": "stdout",
          "text": [
            "12 23 34 45 56\n",
            "56\n",
            "It is present at index position 4\n"
          ]
        }
      ]
    }
  ]
}
