{
  "nbformat": 4,
  "nbformat_minor": 0,
  "metadata": {
    "colab": {
      "name": "Comma code.ipynb",
      "provenance": [],
      "authorship_tag": "ABX9TyM3EpiWjfDidgoKSJjS1btk",
      "include_colab_link": true
    },
    "kernelspec": {
      "name": "python3",
      "display_name": "Python 3"
    },
    "language_info": {
      "name": "python"
    }
  },
  "cells": [
    {
      "cell_type": "markdown",
      "metadata": {
        "id": "view-in-github",
        "colab_type": "text"
      },
      "source": [
        "<a href=\"https://colab.research.google.com/github/Parth1907/Python-Programs/blob/main/Comma_code.ipynb\" target=\"_parent\"><img src=\"https://colab.research.google.com/assets/colab-badge.svg\" alt=\"Open In Colab\"/></a>"
      ]
    },
    {
      "cell_type": "code",
      "execution_count": null,
      "metadata": {
        "id": "Ppj6q6UDTnvA"
      },
      "outputs": [],
      "source": [
        "l=input().split()\n",
        "str=''\n",
        "a=len(list)\n",
        "for i in range(a-1):\n",
        "    str=str+l[i]+', '\n",
        "str=str+'and '+l[a-1]\n",
        "print(str)"
      ]
    },
    {
      "cell_type": "code",
      "source": [
        "def CommaCode(list):   \n",
        "    str=''\n",
        "    a=len(list)\n",
        "    for i in range(a-1):\n",
        "        str=str+l[i]+', '\n",
        "    str=str+'and '+l[a-1]\n",
        "    print(str)\n",
        "\n",
        "l=input().split()\n",
        "CommaCode(l)"
      ],
      "metadata": {
        "id": "XOtBvSQPbZ-Q",
        "colab": {
          "base_uri": "https://localhost:8080/"
        },
        "outputId": "b83dfec2-5395-48a4-a866-c7d3172e461e"
      },
      "execution_count": null,
      "outputs": [
        {
          "output_type": "stream",
          "name": "stdout",
          "text": [
            "Cat bat mat\n",
            "Cat, bat, and mat\n"
          ]
        }
      ]
    },
    {
      "cell_type": "code",
      "source": [
        "l=input().split()\n",
        "s=','\n",
        "s=s.join(l)\n",
        "print(s)"
      ],
      "metadata": {
        "colab": {
          "base_uri": "https://localhost:8080/"
        },
        "id": "kU9OZfvg7IFs",
        "outputId": "b3a006a9-4bc9-4bf2-8a01-22d23608e825"
      },
      "execution_count": null,
      "outputs": [
        {
          "output_type": "stream",
          "name": "stdout",
          "text": [
            "Cat bat mat\n",
            "Cat,bat,mat\n"
          ]
        }
      ]
    }
  ]
}